{
 "cells": [
  {
   "cell_type": "code",
   "execution_count": 2,
   "id": "697c15d4",
   "metadata": {},
   "outputs": [],
   "source": [
    "import numpy as np\n",
    "import pandas as pd\n",
    "from pandas import DataFrame as df\n",
    "import json\n",
    "\n",
    "import matplotlib.pyplot as plt"
   ]
  },
  {
   "cell_type": "code",
   "execution_count": 15,
   "id": "277648b3",
   "metadata": {},
   "outputs": [
    {
     "name": "stdout",
     "output_type": "stream",
     "text": [
      "no.of whisper chats =  35\n",
      "no. of broadcasts =  303\n",
      "total no. of chats =  338\n",
      "whisper chats (% of total) =  10.36\n",
      "##################\n"
     ]
    }
   ],
   "source": [
    "chatfile=open('C5_ChatIncludeWhisper.log')\n",
    "lines=chatfile.readlines()\n",
    "chatfile.close()\n",
    "\n",
    "whisper_list=[]\n",
    "notsecure_list=[]\n",
    "\n",
    "for line in lines:\n",
    "    if '[CHAT] <' in line:\n",
    "        notsecure_list.append(line)\n",
    "    if '[CHAT] [SS]' in line:\n",
    "        whisper_list.append(line)\n",
    "print('no.of whisper chats = ', len(whisper_list))\n",
    "print('no. of broadcasts = ', len(notsecure_list))\n",
    "print('total no. of chats = ', len(whisper_list)+len(notsecure_list))\n",
    "print('whisper chats (% of total) = ', round(len(whisper_list)/(len(whisper_list)+len(notsecure_list)) *100, 2))\n",
    "print('##################')\n",
    "# whisper_list, notsecure_list\n"
   ]
  },
  {
   "cell_type": "code",
   "execution_count": 16,
   "id": "08d2aa0e",
   "metadata": {},
   "outputs": [],
   "source": [
    "LAMAR_NAME = 'CrashCringle12'"
   ]
  },
  {
   "cell_type": "code",
   "execution_count": 17,
   "id": "ca7ca266",
   "metadata": {},
   "outputs": [],
   "source": [
    "BROADCAST = 'broadcast'\n",
    "WHISPER = 'whisper'"
   ]
  },
  {
   "cell_type": "code",
   "execution_count": 18,
   "id": "ee0305af",
   "metadata": {},
   "outputs": [
    {
     "name": "stdout",
     "output_type": "stream",
     "text": [
      "['Cyndakip0' 'J_bobaa' 'kalyaniplays' 'lovelyy' 'z3rohedgehog']\n",
      "{'Cyndakip0': {'broadcast': 0, 'whisper': 0}, 'J_bobaa': {'broadcast': 0, 'whisper': 0}, 'kalyaniplays': {'broadcast': 0, 'whisper': 0}, 'lovelyy': {'broadcast': 0, 'whisper': 0}, 'z3rohedgehog': {'broadcast': 0, 'whisper': 0}}\n",
      "total_broadcast =  302\n",
      "total_whisper =  35\n"
     ]
    },
    {
     "data": {
      "text/plain": [
       "{'Cyndakip0': {'broadcast': 38, 'whisper': 5},\n",
       " 'J_bobaa': {'broadcast': 112, 'whisper': 5},\n",
       " 'kalyaniplays': {'broadcast': 25, 'whisper': 15},\n",
       " 'lovelyy': {'broadcast': 78, 'whisper': 2},\n",
       " 'z3rohedgehog': {'broadcast': 49, 'whisper': 8}}"
      ]
     },
     "execution_count": 18,
     "metadata": {},
     "output_type": "execute_result"
    }
   ],
   "source": [
    "players_list = []\n",
    "\n",
    "for line in lines:\n",
    "    if '[CHAT] <' in line:\n",
    "        player_name = line.split('[CHAT] <')[1].split('>')[0]\n",
    "        if player_name != LAMAR_NAME:\n",
    "            players_list.append(player_name)\n",
    "players_list = np.unique(players_list)\n",
    "print(players_list)\n",
    "\n",
    "total_broadcast = 0\n",
    "total_whisper = 0\n",
    "player_chat_count_dict = {player: {BROADCAST: 0, WHISPER: 0} for player in players_list}\n",
    "print(player_chat_count_dict)\n",
    "\n",
    "for line in lines:\n",
    "    if \"[CHAT] <\" in line:\n",
    "        player_name = line.split('[CHAT] <')[1].split('>')[0]\n",
    "        if player_name != LAMAR_NAME:\n",
    "            player_chat_count_dict[player_name][BROADCAST] += 1\n",
    "            total_broadcast += 1\n",
    "    if \"[CHAT] [SS]\" in line:\n",
    "        player_name = line.split('[CHAT] [SS] [')[1].split(' -> ')[0]        \n",
    "        if player_name != LAMAR_NAME:\n",
    "            player_chat_count_dict[player_name][WHISPER] += 1\n",
    "            total_whisper += 1\n",
    "\n",
    "print('total_broadcast = ', total_broadcast)\n",
    "print('total_whisper = ', total_whisper)\n",
    "player_chat_count_dict"
   ]
  },
  {
   "cell_type": "code",
   "execution_count": null,
   "id": "ba1d9bad",
   "metadata": {},
   "outputs": [],
   "source": []
  },
  {
   "cell_type": "code",
   "execution_count": null,
   "id": "c3805f83",
   "metadata": {},
   "outputs": [],
   "source": []
  },
  {
   "cell_type": "code",
   "execution_count": null,
   "id": "f7c1b67d",
   "metadata": {},
   "outputs": [],
   "source": []
  },
  {
   "cell_type": "code",
   "execution_count": 6,
   "id": "baa9b012",
   "metadata": {},
   "outputs": [],
   "source": [
    "# # for every game, find no. of whisper & broadcast & total chats happening\n",
    "\n",
    "# chatfile=open('C4_ChatIncludeWhisper.log')\n",
    "# lines=chatfile.readlines()\n",
    "# chatfile.close()\n",
    "\n",
    "# whisper_list=[]\n",
    "# notsecure_list=[]\n",
    "\n",
    "# for line in lines:\n",
    "#     if \"[Not Secure]\" in line:\n",
    "#         notsecure_list.append(line)\n",
    "        \n",
    "#     if \"/msg\" in line or \"/r \" in line or \"/tell\" in line:\n",
    "#         whisper_list.append(line)\n",
    "\n",
    "# print('no.of whisper chats = ', len(whisper_list))\n",
    "# print('no. of broadcasts = ', len(notsecure_list))\n",
    "# print('total no. of chats = ', len(whisper_list)+len(notsecure_list))\n",
    "# print('whisper chats (% of total) = ', round(len(whisper_list)/(len(whisper_list)+len(notsecure_list)) *100, 2))\n",
    "# print('##################')\n",
    "# # whisper_list, notsecure_list\n"
   ]
  },
  {
   "cell_type": "code",
   "execution_count": null,
   "id": "e4d571ba",
   "metadata": {},
   "outputs": [],
   "source": []
  },
  {
   "cell_type": "code",
   "execution_count": null,
   "id": "039f9479",
   "metadata": {},
   "outputs": [],
   "source": []
  }
 ],
 "metadata": {
  "kernelspec": {
   "display_name": "Python 3 (ipykernel)",
   "language": "python",
   "name": "python3"
  },
  "language_info": {
   "codemirror_mode": {
    "name": "ipython",
    "version": 3
   },
   "file_extension": ".py",
   "mimetype": "text/x-python",
   "name": "python",
   "nbconvert_exporter": "python",
   "pygments_lexer": "ipython3",
   "version": "3.11.1"
  }
 },
 "nbformat": 4,
 "nbformat_minor": 5
}
