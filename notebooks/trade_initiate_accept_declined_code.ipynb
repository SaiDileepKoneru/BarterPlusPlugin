{
 "cells": [
  {
   "cell_type": "code",
   "execution_count": 1,
   "id": "c4cf62ac",
   "metadata": {},
   "outputs": [],
   "source": [
    "import numpy as np\n",
    "import pandas as pd\n",
    "from pandas import DataFrame as df\n",
    "import json\n",
    "\n",
    "import matplotlib.pyplot as plt"
   ]
  },
  {
   "cell_type": "code",
   "execution_count": 27,
   "id": "b7edcfe9",
   "metadata": {},
   "outputs": [
    {
     "name": "stdout",
     "output_type": "stream",
     "text": [
      "['ACCEPTED' 'CANCELLED' 'DECLINED' 'PENDING']\n",
      "total trades =  64\n"
     ]
    },
    {
     "data": {
      "text/plain": [
       "status\n",
       "ACCEPTED     34\n",
       "DECLINED     19\n",
       "CANCELLED     8\n",
       "PENDING       3\n",
       "Name: count, dtype: int64"
      ]
     },
     "execution_count": 27,
     "metadata": {},
     "output_type": "execute_result"
    }
   ],
   "source": [
    "data=open('C7_barterGame.txt')\n",
    "data_load=json.load(data)\n",
    "data_load[\"barterGames\"]\n",
    "\n",
    "trades_df=df.from_records(data_load[\"barterGames\"][0][\"trades\"])\n",
    "for ind in trades_df.index:\n",
    "    trades_df.loc[ind,\"beginTimestamp\"]=pd.Timestamp(trades_df.loc[ind,\"beginTimestamp\"])\n",
    "    trades_df.loc[ind,\"endTimestamp\"]=pd.Timestamp(trades_df.loc[ind,\"endTimestamp\"])\n",
    "    trades_df.loc[ind,\"diffTimestamp\"]=trades_df.loc[ind,\"endTimestamp\"]-trades_df.loc[ind,\"beginTimestamp\"]\n",
    "    trades_df.loc[ind,\"diffTimestamp\"]=trades_df.loc[ind,\"diffTimestamp\"].seconds+trades_df.loc[ind,\"diffTimestamp\"].microseconds/10**6\n",
    "# trades_df.to_excel(\"timeline_P12.xlsx\")\n",
    "\n",
    "offer_items=[]\n",
    "request_items=[]\n",
    "\n",
    "for item in trades_df[\"offer\"].items():\n",
    "    if item[1]==[]: #declined, cancelled\n",
    "        offer_items.append([])\n",
    "    else:\n",
    "        unique_offer_items=np.unique([offer_item[\"resource\"] for offer_item in item[1]])\n",
    "        offer_items.append(unique_offer_items)\n",
    "        \n",
    "for item in trades_df[\"request\"].items():\n",
    "    if item[1]==[]: #declined, cancelled\n",
    "        request_items.append([])\n",
    "    else:\n",
    "        unique_request_items=np.unique([request_item[\"resource\"] for request_item in item[1]])\n",
    "        request_items.append(unique_request_items)\n",
    "\n",
    "trades_df[\"unique_offer_items\"]=offer_items\n",
    "trades_df[\"unique_request_items\"]=request_items\n",
    "\n",
    "# for the whole game, need total no. of accepted/pending/cancelled trades\n",
    "status_types = np.unique(trades_df['status'])\n",
    "print(status_types)\n",
    "trades_initiated = trades_df.shape[0]\n",
    "print('total trades = ', trades_initiated)\n",
    "status_counts = trades_df['status'].value_counts()\n",
    "status_counts"
   ]
  },
  {
   "cell_type": "code",
   "execution_count": null,
   "id": "2cc38a4c",
   "metadata": {},
   "outputs": [],
   "source": []
  },
  {
   "cell_type": "code",
   "execution_count": null,
   "id": "77bfaf8c",
   "metadata": {},
   "outputs": [],
   "source": []
  },
  {
   "cell_type": "code",
   "execution_count": null,
   "id": "734c12ad",
   "metadata": {},
   "outputs": [],
   "source": []
  },
  {
   "cell_type": "code",
   "execution_count": null,
   "id": "5dc668ac",
   "metadata": {},
   "outputs": [],
   "source": []
  },
  {
   "cell_type": "code",
   "execution_count": null,
   "id": "86cf29ea",
   "metadata": {},
   "outputs": [],
   "source": []
  },
  {
   "cell_type": "code",
   "execution_count": null,
   "id": "b8e34476",
   "metadata": {},
   "outputs": [],
   "source": []
  },
  {
   "cell_type": "code",
   "execution_count": null,
   "id": "71c05779",
   "metadata": {},
   "outputs": [],
   "source": []
  },
  {
   "cell_type": "code",
   "execution_count": null,
   "id": "0b595f8c",
   "metadata": {},
   "outputs": [],
   "source": []
  },
  {
   "cell_type": "code",
   "execution_count": null,
   "id": "adba2436",
   "metadata": {},
   "outputs": [],
   "source": []
  },
  {
   "cell_type": "code",
   "execution_count": null,
   "id": "045858cd",
   "metadata": {},
   "outputs": [],
   "source": []
  },
  {
   "cell_type": "code",
   "execution_count": null,
   "id": "1a197275",
   "metadata": {},
   "outputs": [],
   "source": []
  },
  {
   "cell_type": "code",
   "execution_count": null,
   "id": "400d81ed",
   "metadata": {},
   "outputs": [],
   "source": []
  },
  {
   "cell_type": "code",
   "execution_count": null,
   "id": "15f4c563",
   "metadata": {},
   "outputs": [],
   "source": []
  },
  {
   "cell_type": "code",
   "execution_count": null,
   "id": "6a9d808b",
   "metadata": {},
   "outputs": [],
   "source": []
  }
 ],
 "metadata": {
  "kernelspec": {
   "display_name": "Python 3 (ipykernel)",
   "language": "python",
   "name": "python3"
  },
  "language_info": {
   "codemirror_mode": {
    "name": "ipython",
    "version": 3
   },
   "file_extension": ".py",
   "mimetype": "text/x-python",
   "name": "python",
   "nbconvert_exporter": "python",
   "pygments_lexer": "ipython3",
   "version": "3.11.1"
  }
 },
 "nbformat": 4,
 "nbformat_minor": 5
}
